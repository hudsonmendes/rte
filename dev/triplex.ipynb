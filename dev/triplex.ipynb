{
 "cells": [
  {
   "cell_type": "code",
   "execution_count": 1,
   "metadata": {},
   "outputs": [],
   "source": [
    "# Third-Party Libraries\n",
    "from transformers import AutoModelForCausalLM, AutoTokenizer"
   ]
  },
  {
   "cell_type": "code",
   "execution_count": 2,
   "metadata": {},
   "outputs": [],
   "source": [
    "prompt = \"\"\"\n",
    "# Inputs\n",
    "# Entity Types <- {entities}\n",
    "# Relationships <- {relations}\n",
    "# Text <- {document}\n",
    "# Output -> (subject > predicate > object)\"\"\".strip()"
   ]
  },
  {
   "cell_type": "code",
   "execution_count": 3,
   "metadata": {},
   "outputs": [
    {
     "name": "stderr",
     "output_type": "stream",
     "text": [
      "`flash-attention` package not found, consider installing for better performance: No module named 'flash_attn'.\n",
      "Current `flash-attention` does not support `window_size`. Either upgrade or use `attn_implementation='eager'`.\n"
     ]
    },
    {
     "data": {
      "application/vnd.jupyter.widget-view+json": {
       "model_id": "483dd5c5bf954abc8b7b3f9065b8a4ba",
       "version_major": 2,
       "version_minor": 0
      },
      "text/plain": [
       "Loading checkpoint shards:   0%|          | 0/2 [00:00<?, ?it/s]"
      ]
     },
     "metadata": {},
     "output_type": "display_data"
    }
   ],
   "source": [
    "model = AutoModelForCausalLM.from_pretrained(\"sciphi/triplex\", trust_remote_code=True).eval()"
   ]
  },
  {
   "cell_type": "code",
   "execution_count": 4,
   "metadata": {},
   "outputs": [],
   "source": [
    "tokenizer = AutoTokenizer.from_pretrained(\"sciphi/triplex\", trust_remote_code=True)"
   ]
  },
  {
   "cell_type": "code",
   "execution_count": 5,
   "metadata": {},
   "outputs": [],
   "source": [
    "entity_types = [\"LOCATION\", \"POSITION\", \"DATE\", \"CITY\", \"COUNTRY\", \"NUMBER\"]\n",
    "predicates = [\"POPULATION\", \"AREA\"]\n",
    "text = \"\"\"\n",
    "San Francisco, officially the City and County of San Francisco, is a commercial, financial, and cultural center in Northern California.\n",
    "With a population of 808,437 residents as of 2022, San Francisco is the fourth most populous city in the U.S. state of California behind Los Angeles, San Diego, and San Jose.\n",
    "\"\"\""
   ]
  },
  {
   "cell_type": "code",
   "execution_count": 8,
   "metadata": {},
   "outputs": [],
   "source": [
    "def extract_triplets(doc) -> str:\n",
    "    plain_entitites = \", \".join(entity_types)\n",
    "    plain_predicates = \", \".join(predicates)\n",
    "    x = tokenizer(prompt.format(entities=plain_entitites, relations=plain_predicates, document=doc), return_tensors=\"pt\")\n",
    "    return model.generate(**x, max_new_tokens=50)"
   ]
  },
  {
   "cell_type": "code",
   "execution_count": 9,
   "metadata": {},
   "outputs": [
    {
     "data": {
      "text/plain": [
       "tensor([[  396, 10567, 29879,    13, 29937, 14945, 28025,  3705, 11247, 29907,\n",
       "          8098, 29892,   349,  3267, 22122, 29892, 20231, 29892,   315, 11937,\n",
       "         29892,  4810,  3904,  5659, 29979, 29892, 28019, 13635,    13, 29937,\n",
       "          6376,   800, 14587,  3705,   349,  4590, 13309,  8098, 29892,   319,\n",
       "          1525, 29909,    13, 29937,  3992,  3705, 29871,    13, 22509,  8970,\n",
       "         29892, 22444,   278,  4412,   322,  5127,   310,  3087,  8970, 29892,\n",
       "           338,   263, 12128, 29892, 18161, 29892,   322, 16375,  4818,   297,\n",
       "         14299,  8046, 29889,    13,  3047,   263,  4665,   310, 29871, 29947,\n",
       "         29900, 29947, 29892, 29946, 29941, 29955, 24060,   408,   310, 29871,\n",
       "         29906, 29900, 29906, 29906, 29892,  3087,  8970,   338,   278, 11582,\n",
       "          1556, 14938,   681,  4272,   297,   278,   501, 29889, 29903, 29889,\n",
       "          2106,   310,  8046,  5742,  4602, 10722, 29892,  3087, 16879, 29892,\n",
       "           322,  3087,  5043, 29889,    13,    13, 29937, 10604,  1599,   313,\n",
       "         16009,  1405, 24384,  1405,  1203, 29897,    13, 28956,  3126,    13,\n",
       "         29912,    13,  1678,   376,   296,  1907, 29918,   392, 29918,  3626,\n",
       "          2701,  1115,   518,    13,  4706, 14704, 29896,  1402,   315, 11937,\n",
       "         29901, 22509,  8970,   613,    13,  4706, 14704, 29906,  1402,  4810,\n",
       "          3904,  5659, 29979, 29901,  2525,  1573,  3900,   613,    13,  4706,\n",
       "         14704, 29941,  1402, 11247, 29907,  8098]])"
      ]
     },
     "execution_count": 9,
     "metadata": {},
     "output_type": "execute_result"
    }
   ],
   "source": [
    "extract_triplets(text)"
   ]
  },
  {
   "cell_type": "code",
   "execution_count": null,
   "metadata": {},
   "outputs": [],
   "source": [
    "tensor([[  396, 10567, 29879,    13, 29937, 14945, 28025,  3705, 11247, 29907,\n",
    "          8098, 29892,   349,  3267, 22122, 29892, 20231, 29892,   315, 11937,\n",
    "         29892,  4810,  3904,  5659, 29979, 29892, 28019, 13635,    13, 29937,\n",
    "          6376,   800, 14587,  3705,   349,  4590, 13309,  8098, 29892,   319,\n",
    "          1525, 29909,    13, 29937,  3992,  3705, 29871,    13, 22509,  8970,\n",
    "         29892, 22444,   278,  4412,   322,  5127,   310,  3087,  8970, 29892,\n",
    "           338,   263, 12128, 29892, 18161, 29892,   322, 16375,  4818,   297,\n",
    "         14299,  8046, 29889,    13,  3047,   263,  4665,   310, 29871, 29947,\n",
    "         29900, 29947, 29892, 29946, 29941, 29955, 24060,   408,   310, 29871,\n",
    "         29906, 29900, 29906, 29906, 29892,  3087,  8970,   338,   278, 11582,\n",
    "          1556, 14938,   681,  4272,   297,   278,   501, 29889, 29903, 29889,\n",
    "          2106,   310,  8046,  5742,  4602, 10722, 29892,  3087, 16879, 29892,\n",
    "           322,  3087,  5043, 29889,    13,    13, 29937, 10604,  1599,   313,\n",
    "         16009,  1405, 24384,  1405,  1203, 29897,    13, 28956,  3126,    13,\n",
    "         29912,    13,  1678,   376,   296,  1907, 29918,   392, 29918,  3626,\n",
    "          2701,  1115,   518,    13,  4706, 14704, 29896,  1402,   315, 11937,\n",
    "         29901, 22509,  8970,   613,    13,  4706, 14704, 29906,  1402,  4810,\n",
    "          3904,  5659, 29979, 29901,  2525,  1573,  3900,   613,    13,  4706,\n",
    "         14704, 29941,  1402, 11247, 29907,  8098]])"
   ]
  }
 ],
 "metadata": {
  "kernelspec": {
   "display_name": "venv",
   "language": "python",
   "name": "python3"
  },
  "language_info": {
   "codemirror_mode": {
    "name": "ipython",
    "version": 3
   },
   "file_extension": ".py",
   "mimetype": "text/x-python",
   "name": "python",
   "nbconvert_exporter": "python",
   "pygments_lexer": "ipython3",
   "version": "3.11.9"
  }
 },
 "nbformat": 4,
 "nbformat_minor": 2
}
